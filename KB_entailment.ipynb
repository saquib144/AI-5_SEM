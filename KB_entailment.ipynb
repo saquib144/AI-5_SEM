{
 "cells": [
  {
   "cell_type": "code",
   "execution_count": 56,
   "id": "26b34d30",
   "metadata": {},
   "outputs": [],
   "source": [
    "combination=[(True,True,True),(True,True,False),(True,False,True),(True,False,False),(False,True,True),(False,True,False),(False,False,True),(False,False,False)]"
   ]
  },
  {
   "cell_type": "code",
   "execution_count": 57,
   "id": "b5b5d267",
   "metadata": {},
   "outputs": [],
   "source": [
    "variable={'p':0,'q':1,'r':2}"
   ]
  },
  {
   "cell_type": "code",
   "execution_count": 58,
   "id": "0755f8f5",
   "metadata": {},
   "outputs": [],
   "source": [
    "kb=''"
   ]
  },
  {
   "cell_type": "code",
   "execution_count": 59,
   "id": "a818e50b",
   "metadata": {},
   "outputs": [],
   "source": [
    "q=''"
   ]
  },
  {
   "cell_type": "code",
   "execution_count": 60,
   "id": "02515436",
   "metadata": {},
   "outputs": [],
   "source": [
    "priority={'~':3,'v':1,'^':2}"
   ]
  },
  {
   "cell_type": "code",
   "execution_count": 61,
   "id": "79441d03",
   "metadata": {},
   "outputs": [],
   "source": [
    "def input_rules():\n",
    "    global kb,q\n",
    "    kb=input('Enter the rules:')\n",
    "    q=input('Enter the query')"
   ]
  },
  {
   "cell_type": "code",
   "execution_count": 62,
   "id": "f4a3ea44",
   "metadata": {},
   "outputs": [],
   "source": [
    "def entailment():\n",
    "    global kb,q\n",
    "    print(\"kb\",\"alpha\")\n",
    "    print('*' * 10)\n",
    "    print('POSTFIX OF KB IS ' + str(topostfix(kb)))\n",
    "    print('POSTFIX OF THE QUERY IS' + str(topostfix(q)))\n",
    "    for com in combination:\n",
    "        \n",
    "        s=evaluate_postfix(topostfix(kb),com)\n",
    "        \n",
    "        f=evaluate_postfix(topostfix(q),com)\n",
    "        print(s,f)\n",
    "        \n",
    "        if s and not f:\n",
    "            return False\n",
    "    return True"
   ]
  },
  {
   "cell_type": "code",
   "execution_count": 63,
   "id": "2685e3dc",
   "metadata": {},
   "outputs": [],
   "source": [
    "def isoperand(c):\n",
    "    return c.isalpha() and c!='v'"
   ]
  },
  {
   "cell_type": "code",
   "execution_count": 64,
   "id": "61d390a5",
   "metadata": {},
   "outputs": [],
   "source": [
    "def isleftparenthesis(c):\n",
    "    return c=='('"
   ]
  },
  {
   "cell_type": "code",
   "execution_count": 65,
   "id": "bc2fd9e5",
   "metadata": {},
   "outputs": [],
   "source": [
    "def isrightparenthesis(c):\n",
    "    return c==')'"
   ]
  },
  {
   "cell_type": "code",
   "execution_count": 66,
   "id": "a56b9ffd",
   "metadata": {},
   "outputs": [],
   "source": [
    "def isEmpty(stack):\n",
    "    return len(stack)==0"
   ]
  },
  {
   "cell_type": "code",
   "execution_count": 67,
   "id": "906727b4",
   "metadata": {},
   "outputs": [],
   "source": [
    "def peek(stack):\n",
    "    return stack[-1]\n"
   ]
  },
  {
   "cell_type": "code",
   "execution_count": 68,
   "id": "c16f2271",
   "metadata": {},
   "outputs": [],
   "source": [
    "def has_less_or_equal_priority(c1,c2):\n",
    "    try:\n",
    "        return priority[c1]<=priority[c2]\n",
    "    except KeyError: return False\n",
    "    "
   ]
  },
  {
   "cell_type": "code",
   "execution_count": 69,
   "id": "c98b0c61",
   "metadata": {},
   "outputs": [],
   "source": [
    "def topostfix(infix):\n",
    "    stack=[]\n",
    "    postfix=''\n",
    "    for c in infix:\n",
    "        if isoperand(c):\n",
    "            postfix+=c\n",
    "        else:\n",
    "            if isleftparenthesis(c):\n",
    "                stack.append(c)\n",
    "            elif isrightparenthesis(c):\n",
    "                operator=stack.pop()\n",
    "                while not isleftparenthesis(operator):\n",
    "                    postfix+=operator\n",
    "                    operator=stack.pop()\n",
    "            else:\n",
    "                while (not isEmpty(stack) and has_less_or_equal_priority(c,peek(stack))):\n",
    "                    postfix+=stack.pop()\n",
    "                stack.append(c)\n",
    "    while(not isEmpty(stack)):\n",
    "        postfix+=stack.pop();\n",
    "    return postfix\n",
    "                    "
   ]
  },
  {
   "cell_type": "code",
   "execution_count": 70,
   "id": "107db1f9",
   "metadata": {},
   "outputs": [],
   "source": [
    "def _eval(i,val1,val2):\n",
    "    if i=='^':\n",
    "        return val1 and val2\n",
    "    return val1 or val2"
   ]
  },
  {
   "cell_type": "code",
   "execution_count": 71,
   "id": "d9b482e6",
   "metadata": {},
   "outputs": [],
   "source": [
    "def evaluate_postfix(exp,com):\n",
    "    stack=[]\n",
    "    for i in exp:\n",
    "        if isoperand(i):\n",
    "            stack.append(com[variable[i]])\n",
    "        elif i=='~':\n",
    "            val1=stack.pop();\n",
    "            stack.append(not val1)\n",
    "        else:\n",
    "            val1=stack.pop()\n",
    "            val2=stack.pop()\n",
    "            stack.append(_eval(i,val1,val2))\n",
    "    return stack.pop();"
   ]
  },
  {
   "cell_type": "code",
   "execution_count": 72,
   "id": "aa1bfe84",
   "metadata": {},
   "outputs": [
    {
     "name": "stdout",
     "output_type": "stream",
     "text": [
      "Enter the rules:(~qv~pvr)^(~q^p)^q\n",
      "Enter the queryr\n",
      "kb alpha\n",
      "**********\n",
      "POSTFIX OF KB IS q~p~vrvq~p^^q^\n",
      "POSTFIX OF THE QUERY ISr\n",
      "False True\n",
      "False False\n",
      "False True\n",
      "False False\n",
      "False True\n",
      "False False\n",
      "False True\n",
      "False False\n",
      "The Knowledge Base Entails Query\n"
     ]
    }
   ],
   "source": [
    "input_rules()\n",
    "ans = entailment()\n",
    "if ans: print(\"The Knowledge Base Entails Query\")\n",
    "else: print(\"The Knowlede Base Doesn't Entail Query\")"
   ]
  },
  {
   "cell_type": "code",
   "execution_count": null,
   "id": "8f4abe61",
   "metadata": {},
   "outputs": [],
   "source": []
  }
 ],
 "metadata": {
  "kernelspec": {
   "display_name": "Python 3 (ipykernel)",
   "language": "python",
   "name": "python3"
  },
  "language_info": {
   "codemirror_mode": {
    "name": "ipython",
    "version": 3
   },
   "file_extension": ".py",
   "mimetype": "text/x-python",
   "name": "python",
   "nbconvert_exporter": "python",
   "pygments_lexer": "ipython3",
   "version": "3.9.7"
  }
 },
 "nbformat": 4,
 "nbformat_minor": 5
}
